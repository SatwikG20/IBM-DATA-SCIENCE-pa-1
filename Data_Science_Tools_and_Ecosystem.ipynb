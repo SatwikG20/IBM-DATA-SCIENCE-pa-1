{
 "cells": [
  {
   "cell_type": "markdown",
   "id": "d8402796",
   "metadata": {},
   "source": [
    "# Data Science Tools and Ecosystem"
   ]
  },
  {
   "cell_type": "markdown",
   "id": "57d56867",
   "metadata": {},
   "source": [
    "## Introduction\n",
    "In this notebook, we will summarize some of the most popular tools, languages, and libraries used in the field of Data Science."
   ]
  },
  {
   "cell_type": "markdown",
   "id": "982748a5",
   "metadata": {},
   "source": [
    "## Languages used in Data Science\n",
    "Some of the popular languages used by Data Scientists include:\n",
    "- Python\n",
    "- R\n",
    "- SQL\n",
    "- Julia\n",
    "- Scala"
   ]
  },
  {
   "cell_type": "markdown",
   "id": "34b3b099",
   "metadata": {},
   "source": [
    "## Popular Data Science Libraries\n",
    "Some of the most commonly used libraries in Data Science are:\n",
    "- Pandas\n",
    "- NumPy\n",
    "- Scikit-learn\n",
    "- Matplotlib\n",
    "- TensorFlow"
   ]
  },
  {
   "cell_type": "markdown",
   "id": "cbd58ded",
   "metadata": {},
   "source": [
    "## Table of Data Science Tools\n",
    "\n",
    "| Tool Name     | Description                      |\n",
    "|---------------|----------------------------------|\n",
    "| Jupyter       | Interactive notebooks for coding |\n",
    "| RStudio       | IDE for R programming            |\n",
    "| Apache Spark  | Big data processing              |\n",
    "| TensorFlow    | Machine learning framework       |\n",
    "| RapidMiner    | Data science platform            |"
   ]
  },
  {
   "cell_type": "markdown",
   "id": "bfebe5d2",
   "metadata": {},
   "source": [
    "## Arithmetic Expression Examples\n",
    "Below are some examples of evaluating arithmetic expressions using Python."
   ]
  },
  {
   "cell_type": "code",
   "execution_count": null,
   "id": "a2bdccd6",
   "metadata": {},
   "outputs": [],
   "source": [
    "# This will multiply 3 and 4, then add 5\n",
    "result = (3 * 4) + 5\n",
    "print(\"The result of (3 * 4) + 5 is:\", result)"
   ]
  },
  {
   "cell_type": "code",
   "execution_count": null,
   "id": "89b4b5fd",
   "metadata": {},
   "outputs": [],
   "source": [
    "# Convert 200 minutes to hours\n",
    "minutes = 200\n",
    "hours = minutes / 60\n",
    "print(\"200 minutes is equal to\", hours, \"hours\")"
   ]
  },
  {
   "cell_type": "markdown",
   "id": "c78b11ec",
   "metadata": {},
   "source": [
    "## Objectives\n",
    "In this notebook, we will:\n",
    "- List popular languages for Data Science\n",
    "- List commonly used libraries\n",
    "- Create a table of tools\n",
    "- Perform arithmetic operations using Python\n",
    "- Convert minutes to hours"
   ]
  },
  {
   "cell_type": "markdown",
   "id": "165afd01",
   "metadata": {},
   "source": [
    "## Author\n",
    "**Satwik Guin**"
   ]
  }
 ],
 "metadata": {
  "language_info": {
   "name": "python"
  }
 },
 "nbformat": 4,
 "nbformat_minor": 5
}
